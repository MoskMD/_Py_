{
 "cells": [
  {
   "cell_type": "code",
   "execution_count": null,
   "id": "e6fef56e-6386-4f3c-88ad-a006a94b22cd",
   "metadata": {},
   "outputs": [],
   "source": [
    "def gnome_sort_desc(lst):\n",
    "    i = 0\n",
    "    while i < len(lst):\n",
    "        if i == 0 or lst[i] <= lst[i - 1]:\n",
    "            i += 1\n",
    "        else:\n",
    "            lst[i], lst[i - 1] = lst[i - 1], lst[i]\n",
    "            i -= 1\n",
    "    return lst\n",
    "\n",
    "def task_8():\n",
    "    \n",
    "    input_list = [5, 3, 78, 3, 23, 7, 34]\n",
    "    \n",
    "    sorted_list = gnome_sort_desc(input_list)\n",
    "    print(sorted_list)\n",
    "\n",
    "task_8()"
   ]
  }
 ],
 "metadata": {
  "kernelspec": {
   "display_name": "Python 3 (ipykernel)",
   "language": "python",
   "name": "python3"
  },
  "language_info": {
   "codemirror_mode": {
    "name": "ipython",
    "version": 3
   },
   "file_extension": ".py",
   "mimetype": "text/x-python",
   "name": "python",
   "nbconvert_exporter": "python",
   "pygments_lexer": "ipython3",
   "version": "3.12.6"
  }
 },
 "nbformat": 4,
 "nbformat_minor": 5
}
