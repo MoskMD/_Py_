{
 "cells": [
  {
   "cell_type": "code",
   "execution_count": 457,
   "id": "b1843f0a-9268-452e-8244-12be254eacc4",
   "metadata": {},
   "outputs": [],
   "source": [
    "#import pandas as pd "
   ]
  },
  {
   "cell_type": "code",
   "execution_count": 459,
   "id": "e74db5f9-4e00-4f23-b47a-23263a4bce6a",
   "metadata": {},
   "outputs": [],
   "source": [
    "df = pd.read_csv('/Users/md/Desktop/PL/py/PO/8LB/NationalNames.csv')"
   ]
  },
  {
   "cell_type": "code",
   "execution_count": 460,
   "id": "640aa0c1-9286-4238-a2d9-907a710b990c",
   "metadata": {},
   "outputs": [],
   "source": [
    "#3"
   ]
  },
  {
   "cell_type": "code",
   "execution_count": 461,
   "id": "9a1fedf2-78be-48b2-b4fd-2beccd15ef05",
   "metadata": {},
   "outputs": [
    {
     "data": {
      "text/plain": [
       "Index(['Id', 'Name', 'Year', 'Gender', 'Count'], dtype='object')"
      ]
     },
     "execution_count": 461,
     "metadata": {},
     "output_type": "execute_result"
    }
   ],
   "source": [
    "df.columns "
   ]
  },
  {
   "cell_type": "code",
   "execution_count": 465,
   "id": "9d204497-4e64-4aa9-877e-f8391ace4323",
   "metadata": {},
   "outputs": [],
   "source": [
    "#4"
   ]
  },
  {
   "cell_type": "code",
   "execution_count": 467,
   "id": "36059bea-e6ac-4c28-86ea-0a2a37a53c37",
   "metadata": {},
   "outputs": [
    {
     "name": "stdout",
     "output_type": "stream",
     "text": [
      "                 Id          Year         Count\n",
      "count  1.825433e+06  1.825433e+06  1.825433e+06\n",
      "mean   9.127170e+05  1.972620e+03  1.846879e+02\n",
      "std    5.269573e+05  3.352891e+01  1.566711e+03\n",
      "min    1.000000e+00  1.880000e+03  5.000000e+00\n",
      "25%    4.563590e+05  1.949000e+03  7.000000e+00\n",
      "50%    9.127170e+05  1.982000e+03  1.200000e+01\n",
      "75%    1.369075e+06  2.001000e+03  3.200000e+01\n",
      "max    1.825433e+06  2.014000e+03  9.968000e+04\n"
     ]
    }
   ],
   "source": [
    "print(df.describe())"
   ]
  },
  {
   "cell_type": "code",
   "execution_count": 468,
   "id": "e51c96c4-22df-4f48-9a44-c1d5eaf8ac9c",
   "metadata": {},
   "outputs": [],
   "source": [
    "#5"
   ]
  },
  {
   "cell_type": "code",
   "execution_count": 471,
   "id": "2a71e1e1-7e16-4297-8e0e-9e094168a9b3",
   "metadata": {},
   "outputs": [
    {
     "name": "stdout",
     "output_type": "stream",
     "text": [
      "93889\n"
     ]
    }
   ],
   "source": [
    "unique_names_count = df['Name'].nunique()\n",
    "print(unique_names_count)"
   ]
  },
  {
   "cell_type": "code",
   "execution_count": 473,
   "id": "ebe9ade5-092d-4de8-84bd-fdac2839f5c9",
   "metadata": {},
   "outputs": [],
   "source": [
    "#8"
   ]
  },
  {
   "cell_type": "code",
   "execution_count": 475,
   "id": "6738bffe-df7f-4881-b919-49cc77a74b36",
   "metadata": {},
   "outputs": [],
   "source": [
    "most_popular_name = df.loc[df['Count'].idxmax()]"
   ]
  },
  {
   "cell_type": "code",
   "execution_count": 477,
   "id": "b3d7ece2-2503-4e30-abbf-01a592b821b2",
   "metadata": {},
   "outputs": [
    {
     "name": "stdout",
     "output_type": "stream",
     "text": [
      "The name is 'Linda' in 1947\n"
     ]
    }
   ],
   "source": [
    "print(f\"The name is '{most_popular_name['Name']}' in {most_popular_name['Year']}\")"
   ]
  },
  {
   "cell_type": "code",
   "execution_count": 479,
   "id": "1345364b-3a8e-4f57-904c-d3b488e9046e",
   "metadata": {},
   "outputs": [],
   "source": [
    "#9"
   ]
  },
  {
   "cell_type": "code",
   "execution_count": 481,
   "id": "0046e18e-fd13-4573-ae32-7beaad6c9ada",
   "metadata": {},
   "outputs": [],
   "source": [
    "min_count = df['Count'].min()"
   ]
  },
  {
   "cell_type": "code",
   "execution_count": 483,
   "id": "2b4941b2-da6b-49fd-8cfb-93835269fd0d",
   "metadata": {},
   "outputs": [],
   "source": [
    "min_count_records = df[df['Count'] == min_count].shape[0]"
   ]
  },
  {
   "cell_type": "code",
   "execution_count": 485,
   "id": "98f2923a-0c00-4ff4-85c3-5f37efab5756",
   "metadata": {},
   "outputs": [
    {
     "name": "stdout",
     "output_type": "stream",
     "text": [
      "254615\n"
     ]
    }
   ],
   "source": [
    "print(min_count_records)"
   ]
  },
  {
   "cell_type": "code",
   "execution_count": 487,
   "id": "f2107340-05ba-4cf8-997e-ac5924b72c8b",
   "metadata": {},
   "outputs": [],
   "source": [
    "#11"
   ]
  },
  {
   "cell_type": "code",
   "execution_count": 489,
   "id": "8063ab88-ccd9-4f0b-8997-d01442e0bfd8",
   "metadata": {},
   "outputs": [],
   "source": [
    "unique_names_per_year = df.groupby('Year')['Name'].nunique()"
   ]
  },
  {
   "cell_type": "code",
   "execution_count": 490,
   "id": "9e4a82f5-ae02-4991-9642-a0afba164c4f",
   "metadata": {},
   "outputs": [],
   "source": [
    "max_year = unique_names_per_year.idxmax()\n",
    "max_unique_names = unique_names_per_year.max()"
   ]
  },
  {
   "cell_type": "code",
   "execution_count": 493,
   "id": "b1b91299-c78d-4721-bcfe-063d1575d595",
   "metadata": {},
   "outputs": [
    {
     "name": "stdout",
     "output_type": "stream",
     "text": [
      "2008 32488\n"
     ]
    }
   ],
   "source": [
    "print(f\"{max_year} {max_unique_names}\")"
   ]
  },
  {
   "cell_type": "code",
   "execution_count": 495,
   "id": "13ca04c9-15d0-48e7-844f-241296ec26d9",
   "metadata": {},
   "outputs": [],
   "source": [
    "#12"
   ]
  },
  {
   "cell_type": "code",
   "execution_count": 497,
   "id": "6c3f3c33-e6d0-47c8-89d6-8eaa5eaa1e9e",
   "metadata": {},
   "outputs": [],
   "source": [
    "data_max_year = df[df['Year'] == max_year]"
   ]
  },
  {
   "cell_type": "code",
   "execution_count": 499,
   "id": "255ab44e-a936-454c-991c-36bc04dcc966",
   "metadata": {},
   "outputs": [],
   "source": [
    "most_popular_name_max_year = data_max_year.groupby('Name')['Count'].sum().idxmax()"
   ]
  },
  {
   "cell_type": "code",
   "execution_count": 501,
   "id": "2cf2b66d-2ae5-4c34-8d82-0ea7036def06",
   "metadata": {},
   "outputs": [
    {
     "name": "stdout",
     "output_type": "stream",
     "text": [
      "The most popular name in 2008 is 'Jacob'\n"
     ]
    }
   ],
   "source": [
    "print(f\"The most popular name in {max_year} is '{most_popular_name_max_year}'\")"
   ]
  },
  {
   "cell_type": "code",
   "execution_count": 503,
   "id": "136674b8-ed28-4b36-aaeb-444b3c1bacd5",
   "metadata": {},
   "outputs": [],
   "source": [
    "#16"
   ]
  },
  {
   "cell_type": "code",
   "execution_count": 505,
   "id": "57360d4a-c39e-47cf-9659-22b268c84e00",
   "metadata": {},
   "outputs": [],
   "source": [
    "yearly_births = df.groupby('Year')['Count'].sum()"
   ]
  },
  {
   "cell_type": "code",
   "execution_count": 507,
   "id": "1e711f44-b7e5-4e6a-abba-ee2cc0f77683",
   "metadata": {},
   "outputs": [],
   "source": [
    "most_births_year = yearly_births.idxmax()"
   ]
  },
  {
   "cell_type": "code",
   "execution_count": 509,
   "id": "38f5f6fc-f488-4b20-a662-05f05e01f73a",
   "metadata": {},
   "outputs": [
    {
     "name": "stdout",
     "output_type": "stream",
     "text": [
      "1957\n"
     ]
    }
   ],
   "source": [
    "print(most_births_year)"
   ]
  },
  {
   "cell_type": "code",
   "execution_count": null,
   "id": "6cf512db-9e77-4e9c-98c9-f9eb78207a6f",
   "metadata": {},
   "outputs": [],
   "source": []
  }
 ],
 "metadata": {
  "kernelspec": {
   "display_name": "Python 3 (ipykernel)",
   "language": "python",
   "name": "python3"
  },
  "language_info": {
   "codemirror_mode": {
    "name": "ipython",
    "version": 3
   },
   "file_extension": ".py",
   "mimetype": "text/x-python",
   "name": "python",
   "nbconvert_exporter": "python",
   "pygments_lexer": "ipython3",
   "version": "3.12.7"
  }
 },
 "nbformat": 4,
 "nbformat_minor": 5
}
